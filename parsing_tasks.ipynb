{
 "cells": [
  {
   "cell_type": "markdown",
   "id": "ec909192",
   "metadata": {},
   "source": [
    "## Задание 1 (5 баллов)"
   ]
  },
  {
   "cell_type": "markdown",
   "id": "d1f76b0b",
   "metadata": {},
   "source": [
    "Напишите программу, которая запрашивает у пользователя ввод числа и сохраняет в списке только нечетные отрицательные числа (признак конца последовательности – слово ‘стоп’). Если пользователь вводит некорректное значение, то должен запрашиваться повторный ввод.\\\n",
    "Затем программа выводит полученный список, отсортированный по убыванию, а также минимальное значение элементов списка."
   ]
  },
  {
   "cell_type": "code",
   "id": "9fce182c",
   "metadata": {
    "ExecuteTime": {
     "end_time": "2025-01-18T10:46:41.243217Z",
     "start_time": "2025-01-18T10:46:30.470224Z"
    }
   },
   "source": [
    "numbers = []\n",
    "\n",
    "while True:\n",
    "    user_input = input(\"Введите число (или 'стоп' для завершения): \")\n",
    "    if user_input.lower() == 'стоп':\n",
    "        break\n",
    "    try:\n",
    "        number = int(user_input)\n",
    "        if number < 0 and number % 2 != 0:\n",
    "            numbers.append(number)\n",
    "    except ValueError:\n",
    "        continue\n",
    "\n",
    "numbers.sort(reverse=True)\n",
    "\n",
    "if numbers:\n",
    "    print(\"Отсортированный список:\", numbers)\n",
    "    print(\"Минимальное значение:\", min(numbers))\n",
    "else:\n",
    "    print(\"Список пуст.\")\n"
   ],
   "outputs": [
    {
     "name": "stdout",
     "output_type": "stream",
     "text": [
      "Отсортированный список: [-3, -5, -7]\n",
      "Минимальное значение: -7\n"
     ]
    }
   ],
   "execution_count": 1
  },
  {
   "cell_type": "markdown",
   "id": "800fcc65",
   "metadata": {},
   "source": [
    "## Задание 2 (10 баллов)"
   ]
  },
  {
   "cell_type": "markdown",
   "id": "1c5d3946",
   "metadata": {},
   "source": [
    "Напишите функцию, которая определяет, подходит ли кандидат на позицию старшего бизнес-аналитика:\n",
    "- опыт работы: от 25 до 30 лет;\n",
    "- инструменты: Power BI, Excel;\n",
    "- вуз: СПбГУ, МГУ, ВШЭ.\\\n",
    "Три перечисленных выше параметра необходимо запросить у пользователя и сравнить введенные значения с установленными критериями. Если кандидат соответствует заданным критериям, программа должна вывести True, иначе False."
   ]
  },
  {
   "cell_type": "code",
   "id": "113fbdf4",
   "metadata": {
    "ExecuteTime": {
     "end_time": "2025-01-18T10:47:00.659269Z",
     "start_time": "2025-01-18T10:46:45.072048Z"
    }
   },
   "source": [
    "def is_suitable_candidate():\n",
    "    experience = int(input(\"Введите опыт работы (лет): \"))\n",
    "    tools = input(\"Введите инструменты через запятую: \").split(\", \")\n",
    "    university = input(\"Введите вуз: \")\n",
    "\n",
    "    return (25 <= experience <= 30 and\n",
    "            \"Power BI\" in tools and\n",
    "            \"Excel\" in tools and\n",
    "            university in [\"СПбГУ\", \"МГУ\", \"ВШЭ\"])\n",
    "\n",
    "\n",
    "print(is_suitable_candidate())\n"
   ],
   "outputs": [
    {
     "name": "stdout",
     "output_type": "stream",
     "text": [
      "True\n"
     ]
    }
   ],
   "execution_count": 2
  },
  {
   "cell_type": "markdown",
   "id": "924c276c",
   "metadata": {},
   "source": [
    "## Задание 3 (10 баллов)"
   ]
  },
  {
   "cell_type": "markdown",
   "id": "8699685f",
   "metadata": {},
   "source": [
    "Напишите программу, которая запрашивает согласование (например, статусы \"да\" или \"нет\") документа у четырех ответственных лиц (ФИО и/или должности можете придумать самостоятельно). Если хотя бы одно ответственное лицо не согласовало документ, необходимо повторно запросить согласование у всех ответственных лиц. После согласования программа должна напечатать \"Документ согласован\". \\\n",
    "Подсказки:\n",
    "- используйте цикл while;\n",
    "- если все согласовали, вызовете команду break, иначе continue;\n",
    "- ввод статуса согласования реализуйте в теле цикла."
   ]
  },
  {
   "cell_type": "code",
   "id": "9bdb538e",
   "metadata": {
    "ExecuteTime": {
     "end_time": "2025-01-18T10:47:08.894706Z",
     "start_time": "2025-01-18T10:47:05.038322Z"
    }
   },
   "source": [
    "responsible_persons = [\"Иванов Иван Иванович\", \"Петров Петр Петрович\", \"Сидорова Анна Викторовна\",\n",
    "                       \"Кузнецов Алексей Сергеевич\"]\n",
    "\n",
    "while True:\n",
    "    approvals = []\n",
    "    for person in responsible_persons:\n",
    "        status = input(f\"{person}, согласовали документ? (да/нет): \").strip().lower()\n",
    "        approvals.append(status == \"да\")\n",
    "\n",
    "    if all(approvals):\n",
    "        print(\"Документ согласован\")\n",
    "        break\n",
    "    else:\n",
    "        continue\n"
   ],
   "outputs": [
    {
     "name": "stdout",
     "output_type": "stream",
     "text": [
      "Документ согласован\n"
     ]
    }
   ],
   "execution_count": 3
  }
 ],
 "metadata": {
  "kernelspec": {
   "display_name": "Python 3",
   "language": "python",
   "name": "python3"
  },
  "language_info": {
   "codemirror_mode": {
    "name": "ipython",
    "version": 3
   },
   "file_extension": ".py",
   "mimetype": "text/x-python",
   "name": "python",
   "nbconvert_exporter": "python",
   "pygments_lexer": "ipython3",
   "version": "3.9.5"
  }
 },
 "nbformat": 4,
 "nbformat_minor": 5
}
