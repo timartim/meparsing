{
  "cells": [
    {
      "metadata": {
        "id": "8a77807f92f26ee"
      },
      "cell_type": "markdown",
      "source": [
        "# Примеры"
      ],
      "id": "8a77807f92f26ee"
    },
    {
      "cell_type": "code",
      "source": [
        "from google.colab import drive\n",
        "drive.mount('/content/drive')"
      ],
      "metadata": {
        "colab": {
          "base_uri": "https://localhost:8080/"
        },
        "id": "1MPeZ6NOXu3b",
        "outputId": "f1530502-a475-4625-ad0d-15088147cf7a"
      },
      "id": "1MPeZ6NOXu3b",
      "execution_count": null,
      "outputs": [
        {
          "output_type": "stream",
          "name": "stdout",
          "text": [
            "Mounted at /content/drive\n"
          ]
        }
      ]
    },
    {
      "metadata": {
        "id": "65ef6aaa82cebcc1"
      },
      "cell_type": "markdown",
      "source": [
        "## Пример 1, обучение RandomForest выявлению сепсиса"
      ],
      "id": "65ef6aaa82cebcc1"
    },
    {
      "metadata": {
        "id": "443ec4980733332b"
      },
      "cell_type": "markdown",
      "source": [
        "### Устройство MIMIC\n",
        "В примерах разберем, как с помощью модуля sickness-screening обучить модель предсказывать сепсис на наборе данных MIMIC.\n",
        "В MIMIC есть множество таблиц, но для примера нам потребуются следующие таблицы:\n",
        "1. **chartevents.csv** —— содержит данные мониторинга пациентов, например: температура тела, артериальное давление.\n",
        "2. **labevents.csv** —— содержит данные различных анализов пациентов, например различные характеристики анализов крови для пациентов.\n",
        "3. **diagnoses.csv** —— содержит информацию о диагнозах, которые получил пациент.\n",
        "4. **d_icd_diagnoses** —— расшифрофки кодов диагнозов для каждого диагноза.\n",
        "5. **d_labitems.csv** —— расшифрофки кодов анализов для каждого пациента."
      ],
      "id": "443ec4980733332b"
    },
    {
      "metadata": {
        "id": "a3d38bd77cc32d6c"
      },
      "cell_type": "markdown",
      "source": [
        "### Установим библиотеку"
      ],
      "id": "a3d38bd77cc32d6c"
    },
    {
      "metadata": {
        "colab": {
          "base_uri": "https://localhost:8080/"
        },
        "id": "8242aa3d75a5756b",
        "outputId": "348193de-5ab8-47ca-ec50-3c93ad36f57a",
        "ExecuteTime": {
          "end_time": "2024-06-16T11:05:13.713377Z",
          "start_time": "2024-06-16T11:05:12.438755Z"
        }
      },
      "cell_type": "code",
      "source": [
        "!pip3 install sickness-screening"
      ],
      "id": "8242aa3d75a5756b",
      "outputs": [
        {
          "name": "stdout",
          "output_type": "stream",
          "text": [
            "Requirement already satisfied: sickness-screening in /Users/artemij/miniconda3/lib/python3.12/site-packages (1.0.4)\r\n",
            "Requirement already satisfied: requests>=2.25.1 in /Users/artemij/miniconda3/lib/python3.12/site-packages (from sickness-screening) (2.31.0)\r\n",
            "Requirement already satisfied: pandas>=1.3.3 in /Users/artemij/miniconda3/lib/python3.12/site-packages (from sickness-screening) (2.2.1)\r\n",
            "Requirement already satisfied: tqdm>=4.62.3 in /Users/artemij/miniconda3/lib/python3.12/site-packages (from sickness-screening) (4.65.0)\r\n",
            "Requirement already satisfied: numpy>=1.21.2 in /Users/artemij/miniconda3/lib/python3.12/site-packages (from sickness-screening) (1.26.4)\r\n",
            "Requirement already satisfied: scikit-learn>=0.24.2 in /Users/artemij/miniconda3/lib/python3.12/site-packages (from sickness-screening) (1.4.2)\r\n",
            "Requirement already satisfied: imbalanced-learn>=0.8.0 in /Users/artemij/miniconda3/lib/python3.12/site-packages (from sickness-screening) (0.12.3)\r\n",
            "Requirement already satisfied: pytorch-tabnet>=3.1.1 in /Users/artemij/miniconda3/lib/python3.12/site-packages (from sickness-screening) (4.1.0)\r\n",
            "Requirement already satisfied: torch>=1.9.0 in /Users/artemij/miniconda3/lib/python3.12/site-packages (from sickness-screening) (2.3.1)\r\n",
            "Requirement already satisfied: nona>=0.0.2 in /Users/artemij/miniconda3/lib/python3.12/site-packages (from sickness-screening) (0.0.2)\r\n",
            "Requirement already satisfied: scipy>=1.5.0 in /Users/artemij/miniconda3/lib/python3.12/site-packages (from imbalanced-learn>=0.8.0->sickness-screening) (1.12.0)\r\n",
            "Requirement already satisfied: joblib>=1.1.1 in /Users/artemij/miniconda3/lib/python3.12/site-packages (from imbalanced-learn>=0.8.0->sickness-screening) (1.4.0)\r\n",
            "Requirement already satisfied: threadpoolctl>=2.0.0 in /Users/artemij/miniconda3/lib/python3.12/site-packages (from imbalanced-learn>=0.8.0->sickness-screening) (2.2.0)\r\n",
            "Requirement already satisfied: python-dateutil>=2.8.2 in /Users/artemij/miniconda3/lib/python3.12/site-packages (from pandas>=1.3.3->sickness-screening) (2.9.0.post0)\r\n",
            "Requirement already satisfied: pytz>=2020.1 in /Users/artemij/miniconda3/lib/python3.12/site-packages (from pandas>=1.3.3->sickness-screening) (2024.1)\r\n",
            "Requirement already satisfied: tzdata>=2022.7 in /Users/artemij/miniconda3/lib/python3.12/site-packages (from pandas>=1.3.3->sickness-screening) (2023.3)\r\n",
            "Requirement already satisfied: charset-normalizer<4,>=2 in /Users/artemij/miniconda3/lib/python3.12/site-packages (from requests>=2.25.1->sickness-screening) (2.0.4)\r\n",
            "Requirement already satisfied: idna<4,>=2.5 in /Users/artemij/miniconda3/lib/python3.12/site-packages (from requests>=2.25.1->sickness-screening) (3.4)\r\n",
            "Requirement already satisfied: urllib3<3,>=1.21.1 in /Users/artemij/miniconda3/lib/python3.12/site-packages (from requests>=2.25.1->sickness-screening) (2.1.0)\r\n",
            "Requirement already satisfied: certifi>=2017.4.17 in /Users/artemij/miniconda3/lib/python3.12/site-packages (from requests>=2.25.1->sickness-screening) (2024.6.2)\r\n",
            "Requirement already satisfied: filelock in /Users/artemij/miniconda3/lib/python3.12/site-packages (from torch>=1.9.0->sickness-screening) (3.15.1)\r\n",
            "Requirement already satisfied: typing-extensions>=4.8.0 in /Users/artemij/miniconda3/lib/python3.12/site-packages (from torch>=1.9.0->sickness-screening) (4.11.0)\r\n",
            "Requirement already satisfied: sympy in /Users/artemij/miniconda3/lib/python3.12/site-packages (from torch>=1.9.0->sickness-screening) (1.12.1)\r\n",
            "Requirement already satisfied: networkx in /Users/artemij/miniconda3/lib/python3.12/site-packages (from torch>=1.9.0->sickness-screening) (3.3)\r\n",
            "Requirement already satisfied: jinja2 in /Users/artemij/miniconda3/lib/python3.12/site-packages (from torch>=1.9.0->sickness-screening) (3.1.4)\r\n",
            "Requirement already satisfied: fsspec in /Users/artemij/miniconda3/lib/python3.12/site-packages (from torch>=1.9.0->sickness-screening) (2024.6.0)\r\n",
            "Requirement already satisfied: six>=1.5 in /Users/artemij/miniconda3/lib/python3.12/site-packages (from python-dateutil>=2.8.2->pandas>=1.3.3->sickness-screening) (1.16.0)\r\n",
            "Requirement already satisfied: MarkupSafe>=2.0 in /Users/artemij/miniconda3/lib/python3.12/site-packages (from jinja2->torch>=1.9.0->sickness-screening) (2.1.3)\r\n",
            "Requirement already satisfied: mpmath<1.4.0,>=1.1.0 in /Users/artemij/miniconda3/lib/python3.12/site-packages (from sympy->torch>=1.9.0->sickness-screening) (1.3.0)\r\n"
          ]
        }
      ],
      "execution_count": null
    },
    {
      "metadata": {
        "id": "5ef2a462614b73f"
      },
      "cell_type": "markdown",
      "source": [
        "#### Аггрегирование данных о диагнозах пациентов:"
      ],
      "id": "5ef2a462614b73f"
    },
    {
      "metadata": {
        "id": "9b9f08848dd9a972"
      },
      "cell_type": "markdown",
      "source": [
        "##### Импортирование библиотеки"
      ],
      "id": "9b9f08848dd9a972"
    },
    {
      "metadata": {
        "id": "fbc121e30a2defb3",
        "ExecuteTime": {
          "end_time": "2024-06-19T17:24:35.055957Z",
          "start_time": "2024-06-19T17:24:33.256793Z"
        }
      },
      "cell_type": "code",
      "source": [
        "import sickness_screening as ss"
      ],
      "id": "fbc121e30a2defb3",
      "outputs": [],
      "execution_count": null
    },
    {
      "metadata": {
        "id": "4766253efb1edee0"
      },
      "cell_type": "markdown",
      "source": [
        "#### Аггрегирование данных о диагнозах пациентов:"
      ],
      "id": "4766253efb1edee0"
    },
    {
      "metadata": {
        "id": "2e9a5dbd30b631d3",
        "outputId": "f261d6c0-f3ea-4d80-df43-295277f4ae7a",
        "ExecuteTime": {
          "end_time": "2024-06-19T17:24:40.572270Z",
          "start_time": "2024-06-19T17:24:35.056719Z"
        }
      },
      "cell_type": "code",
      "source": [
        "df_gotten_diagnoses = ss.get_diagnoses_data(patient_diagnoses_csv='diagnoses.csv',\n",
        "                 all_diagnoses_csv='d_icd_diagnoses.csv',\n",
        "                 output_file_csv='gottenDiagnoses.csv')\n",
        "print(df_gotten_diagnoses.head(10))"
      ],
      "id": "2e9a5dbd30b631d3",
      "outputs": [
        {
          "name": "stdout",
          "output_type": "stream",
          "text": [
            "   subject_id                                         long_title\n",
            "0    10000032                                Portal hypertension\n",
            "1    10000032                                      Other ascites\n",
            "2    10000032      Cirrhosis of liver without mention of alcohol\n",
            "3    10000032  Unspecified viral hepatitis C without hepatic ...\n",
            "4    10000032  Chronic airway obstruction, not elsewhere clas...\n",
            "5    10000032                      Bipolar disorder, unspecified\n",
            "6    10000032                      Posttraumatic stress disorder\n",
            "7    10000032                    Personal history of tobacco use\n",
            "8    10000032    Unspecified viral hepatitis C with hepatic coma\n",
            "9    10000032                                      Other ascites\n"
          ]
        }
      ],
      "execution_count": null
    },
    {
      "metadata": {
        "id": "fc72cfb1d4a28f79"
      },
      "cell_type": "markdown",
      "source": [
        "Здесь мы для каждого пациента из **patient_diagnoses_csv** получаем коды диагнозов, а далее, используя **all_diagnoses_csv**\n",
        "мы уже получаем файл **output_file_csv** в котором для каждого пациента уже хранится расшифровка его диагноза."
      ],
      "id": "fc72cfb1d4a28f79"
    },
    {
      "metadata": {
        "id": "3ed8fc0836ca66e8"
      },
      "cell_type": "markdown",
      "source": [
        "#### Получение данных о том, есть ли конкретный диагноз у пациента"
      ],
      "id": "3ed8fc0836ca66e8"
    },
    {
      "metadata": {
        "id": "8d48aaf526225a1c",
        "outputId": "2dba2782-2d4a-4cc7-a3fc-766d4a137e6e",
        "ExecuteTime": {
          "end_time": "2024-06-19T17:24:44.613578Z",
          "start_time": "2024-06-19T17:24:40.573816Z"
        }
      },
      "cell_type": "code",
      "source": [
        "df_sepsis_info = ss.get_disease_info(diagnoses_csv='gottenDiagnoses.csv', title_column='long_title', disease_str='sepsis',\n",
        "                    disease_column='has_sepsis', subject_id_column='subject_id', log_stats=True,\n",
        "                    output_csv='sepsis_info.csv')\n",
        "print(df_sepsis_info.head(20))"
      ],
      "id": "8d48aaf526225a1c",
      "outputs": [
        {
          "name": "stdout",
          "output_type": "stream",
          "text": [
            "Total patients: 180640\n",
            "Total patients with disease: 12616\n",
            "    subject_id  has_sepsis\n",
            "0     10000032       False\n",
            "1     10000068       False\n",
            "2     10000084       False\n",
            "3     10000108       False\n",
            "4     10000117       False\n",
            "5     10000248       False\n",
            "6     10000280       False\n",
            "7     10000560       False\n",
            "8     10000635       False\n",
            "9     10000719       False\n",
            "10    10000764       False\n",
            "11    10000826        True\n",
            "12    10000883       False\n",
            "13    10000886       False\n",
            "14    10000904       False\n",
            "15    10000935       False\n",
            "16    10000980       False\n",
            "17    10001176       False\n",
            "18    10001186       False\n",
            "19    10001217       False\n"
          ]
        }
      ],
      "execution_count": null
    },
    {
      "metadata": {
        "id": "f38253adf1bc9e20"
      },
      "cell_type": "markdown",
      "source": [
        " Здесь используем таблицу, которую мы получили из предыдущего примера, чтобы на выходе получить таблицу, в которой содержатся данные о том,\n",
        "был ли у этого человека в диагнозе продстрока sepsis, или нет."
      ],
      "id": "f38253adf1bc9e20"
    },
    {
      "metadata": {
        "id": "2a9367b0937f6d32"
      },
      "cell_type": "markdown",
      "source": [
        "#### Аггрегирование данных, необходимых для нахождения ССВР (синдром системной воспалительной рекции)"
      ],
      "id": "2a9367b0937f6d32"
    },
    {
      "metadata": {
        "id": "b7a602b05f5e4599"
      },
      "cell_type": "markdown",
      "source": [
        "Теперь соберем некоторые данные, необходимые для определения ССВР:"
      ],
      "id": "b7a602b05f5e4599"
    },
    {
      "metadata": {
        "id": "f401e12c075cb3f4",
        "outputId": "4e632950-349d-41a5-dd0a-dee7cb171e2e",
        "ExecuteTime": {
          "end_time": "2024-06-19T17:28:11.969042Z",
          "start_time": "2024-06-19T17:24:44.614344Z"
        }
      },
      "cell_type": "code",
      "source": [
        "itemids_map = {\n",
        "    220045: 'Heart rate',\n",
        "    220210: 'Respiratory rate',\n",
        "    223762: 'Temperature Fahrenheit',\n",
        "    223761: 'Temperature Celsius',\n",
        "    225651: 'Direct Bilirubin'\n",
        "}\n",
        "df_ssir = ss.get_analyzes_data(analyzes_csv='chartevents.csv', subject_id_col='subject_id', itemid_col='itemid',\n",
        "                      charttime_col='charttime', value_col='value', valuenum_col='valuenum',\n",
        "                      itemids_map=itemids_map, rest_columns=['Heart rate', 'Respiratory rate', 'Temperature Fahrenheit', 'Temperature Celsius',\n",
        "                        'Direct Bilirubin', 'subject_id', 'charttime'], output_csv='ssir.csv')\n",
        "print(df_ssir.head(10))"
      ],
      "id": "f401e12c075cb3f4",
      "outputs": [
        {
          "name": "stdout",
          "output_type": "stream",
          "text": [
            "  Heart rate Heart rate Respiratory rate Respiratory rate  \\\n",
            "0        NaN        NaN              NaN              NaN   \n",
            "1         91        bpm               24         insp/min   \n",
            "2         93        bpm               21         insp/min   \n",
            "3         94        bpm               23         insp/min   \n",
            "4        105        bpm               21         insp/min   \n",
            "5         97        bpm               20         insp/min   \n",
            "6        100        bpm               21         insp/min   \n",
            "7         97        bpm               16         insp/min   \n",
            "8        100        bpm               19         insp/min   \n",
            "9         94        bpm               22         insp/min   \n",
            "\n",
            "  Temperature Fahrenheit Temperature Fahrenheit Temperature Celsius  \\\n",
            "0                    NaN                    NaN                98.7   \n",
            "1                    NaN                    NaN                 NaN   \n",
            "2                    NaN                    NaN                 NaN   \n",
            "3                    NaN                    NaN                 NaN   \n",
            "4                    NaN                    NaN                 NaN   \n",
            "5                    NaN                    NaN                98.7   \n",
            "6                    NaN                    NaN                 NaN   \n",
            "7                    NaN                    NaN                 NaN   \n",
            "8                    NaN                    NaN                99.5   \n",
            "9                    NaN                    NaN                 NaN   \n",
            "\n",
            "  Temperature Celsius Direct Bilirubin Direct Bilirubin  subject_id  \\\n",
            "0                  °F              NaN              NaN    10000032   \n",
            "1                 NaN              NaN              NaN    10000032   \n",
            "2                 NaN              NaN              NaN    10000032   \n",
            "3                 NaN              NaN              NaN    10000032   \n",
            "4                 NaN              NaN              NaN    10000032   \n",
            "5                  °F              NaN              NaN    10000032   \n",
            "6                 NaN              NaN              NaN    10000032   \n",
            "7                 NaN              NaN              NaN    10000032   \n",
            "8                  °F              NaN              NaN    10000032   \n",
            "9                 NaN              NaN              NaN    10000032   \n",
            "\n",
            "             charttime  \n",
            "0  2180-07-23 14:00:00  \n",
            "1  2180-07-23 14:12:00  \n",
            "2  2180-07-23 14:30:00  \n",
            "3  2180-07-23 15:00:00  \n",
            "4  2180-07-23 16:00:00  \n",
            "5  2180-07-23 17:00:00  \n",
            "6  2180-07-23 18:00:00  \n",
            "7  2180-07-23 19:00:00  \n",
            "8  2180-07-23 20:00:00  \n",
            "9  2180-07-23 21:00:00  \n"
          ]
        }
      ],
      "execution_count": null
    },
    {
      "metadata": {
        "id": "e3975e5312f11bc4"
      },
      "cell_type": "markdown",
      "source": [
        "Здесь мы используя таблицу **analyzes_csv**, **itemids**(коды анализов, которые мы хотим собрать), **rest_columns**(колонки, которые мы хотим оставить в выходной таблице),\n",
        "Фунукция собирает из analyzes_csv замеры для пациентов с кодами **itemids** и записать их в **output_csv**, оставив только колонки, которые есть в **rest_columns**\n",
        "В данной функции **subject_id_col** и **itemid_col** отвечают за колонки, отведенные под коды пациентов и анализов соответсвенно.\n",
        "**charttime_col** отвечает за время. **valuenum_col** отвечает за колонку с единицами измерения анализов."
      ],
      "id": "e3975e5312f11bc4"
    },
    {
      "metadata": {
        "id": "e4f0a9851801da1"
      },
      "cell_type": "markdown",
      "source": [
        "#### Комбинирование данных о диагнозах и ССВР"
      ],
      "id": "e4f0a9851801da1"
    },
    {
      "metadata": {
        "id": "b5956880108e9ac5",
        "outputId": "d362447c-9ea8-4ddf-a2d4-6a601b876c97",
        "ExecuteTime": {
          "end_time": "2024-06-19T17:28:36.301959Z",
          "start_time": "2024-06-19T17:28:11.970706Z"
        }
      },
      "cell_type": "code",
      "source": [
        "df_combined = ss.combine_data(first_data_csv='gottenDiagnoses.csv',\n",
        "                              second_data_csv='ssir.csv',\n",
        "                              output_file='diagnoses_and_ssir.csv', log_stats=False)\n",
        "print(df_combined.head(10))"
      ],
      "id": "b5956880108e9ac5",
      "outputs": [
        {
          "name": "stdout",
          "output_type": "stream",
          "text": [
            "   Heart rate Heart rate.1  Respiratory rate Respiratory rate.1  \\\n",
            "0         NaN          NaN               NaN                NaN   \n",
            "1        91.0          bpm              24.0           insp/min   \n",
            "2        93.0          bpm              21.0           insp/min   \n",
            "3        94.0          bpm              23.0           insp/min   \n",
            "4       105.0          bpm              21.0           insp/min   \n",
            "5        97.0          bpm              20.0           insp/min   \n",
            "6       100.0          bpm              21.0           insp/min   \n",
            "7        97.0          bpm              16.0           insp/min   \n",
            "8       100.0          bpm              19.0           insp/min   \n",
            "9        94.0          bpm              22.0           insp/min   \n",
            "\n",
            "   Temperature Fahrenheit Temperature Fahrenheit.1  Temperature Celsius  \\\n",
            "0                     NaN                      NaN                 98.7   \n",
            "1                     NaN                      NaN                  NaN   \n",
            "2                     NaN                      NaN                  NaN   \n",
            "3                     NaN                      NaN                  NaN   \n",
            "4                     NaN                      NaN                  NaN   \n",
            "5                     NaN                      NaN                 98.7   \n",
            "6                     NaN                      NaN                  NaN   \n",
            "7                     NaN                      NaN                  NaN   \n",
            "8                     NaN                      NaN                 99.5   \n",
            "9                     NaN                      NaN                  NaN   \n",
            "\n",
            "  Temperature Celsius.1  Direct Bilirubin Direct Bilirubin.1  subject_id  \\\n",
            "0                    °F               NaN                NaN    10000032   \n",
            "1                   NaN               NaN                NaN    10000032   \n",
            "2                   NaN               NaN                NaN    10000032   \n",
            "3                   NaN               NaN                NaN    10000032   \n",
            "4                   NaN               NaN                NaN    10000032   \n",
            "5                    °F               NaN                NaN    10000032   \n",
            "6                   NaN               NaN                NaN    10000032   \n",
            "7                   NaN               NaN                NaN    10000032   \n",
            "8                    °F               NaN                NaN    10000032   \n",
            "9                   NaN               NaN                NaN    10000032   \n",
            "\n",
            "             charttime has_sepsis  \n",
            "0  2180-07-23 14:00:00      False  \n",
            "1  2180-07-23 14:12:00      False  \n",
            "2  2180-07-23 14:30:00      False  \n",
            "3  2180-07-23 15:00:00      False  \n",
            "4  2180-07-23 16:00:00      False  \n",
            "5  2180-07-23 17:00:00      False  \n",
            "6  2180-07-23 18:00:00      False  \n",
            "7  2180-07-23 19:00:00      False  \n",
            "8  2180-07-23 20:00:00      False  \n",
            "9  2180-07-23 21:00:00      False  \n"
          ]
        }
      ],
      "execution_count": null
    },
    {
      "metadata": {
        "id": "57cabba6b17d5c0e"
      },
      "cell_type": "markdown",
      "source": [
        "#### Сбор и комбинирование данных об анализах крови, с данными об диагнозах и ССВР\n",
        "Соберем данные об анализах крови пациентов и скомбинируем их в одну таблицу:"
      ],
      "id": "57cabba6b17d5c0e"
    },
    {
      "metadata": {
        "id": "1785984ab394406d",
        "outputId": "f6744c75-44ad-4fe3-dfc8-7be9af247fe8",
        "ExecuteTime": {
          "end_time": "2024-06-19T17:39:33.089324Z",
          "start_time": "2024-06-19T17:28:36.302596Z"
        }
      },
      "cell_type": "code",
      "source": [
        "df_merged = ss.merge_and_get_data(merge_with='diagnoses_and_ssir.csv',\n",
        "                      blood_csv='labevents.csv',\n",
        "                      get_data_from='chartevents.csv',\n",
        "                      disease_info_csv='sepsis_info_df.csv',\n",
        "                      output_csv='merged_data.csv',\n",
        "                      has_disease_column = 'has_sepsis',\n",
        "                      analyzes_names = {\n",
        "                        51222: \"Hemoglobin\",\n",
        "                        51279: \"Red Blood Cell\",\n",
        "                        51240: \"Large Platelets\",\n",
        "                        50861: \"Alanine Aminotransferase (ALT)\",\n",
        "                        50878: \"Asparate Aminotransferase (AST)\",\n",
        "                        225651: \"Direct Bilirubin\",\n",
        "                        50867: \"Amylase\",\n",
        "                        51301: \"White Blood Cells\"})\n",
        "print(df_merged.head(10))"
      ],
      "id": "1785984ab394406d",
      "outputs": [
        {
          "name": "stderr",
          "output_type": "stream",
          "text": [
            "/Users/artemij/miniconda3/lib/python3.12/site-packages/sickness_screening/merge_and_get_data.py:64: DtypeWarning: Columns (12) have mixed types. Specify dtype option on import or set low_memory=False.\n",
            "  diagnoses_and_ssir = pd.read_csv(merge_with)\n"
          ]
        },
        {
          "name": "stdout",
          "output_type": "stream",
          "text": [
            "Unique patients with disease: 12615\n",
            "Unique patients without disease: 163902\n",
            "Total unique patients: 243811\n",
            "   subject_id            charttime Alanine Aminotransferase (ALT) Amylase  \\\n",
            "0    10000032  2180-03-23 11:51:00                            102     NaN   \n",
            "1    10000032  2180-05-06 22:25:00                            100     NaN   \n",
            "2    10000032  2180-05-07 05:05:00                             88     NaN   \n",
            "3    10000032  2180-06-03 12:00:00                            110     NaN   \n",
            "4    10000032  2180-06-22 11:15:00                            113     NaN   \n",
            "5    10000032  2180-06-26 16:10:00                            126     NaN   \n",
            "6    10000032  2180-06-27 05:10:00                            117     NaN   \n",
            "7    10000032  2180-07-23 06:39:00                            153     NaN   \n",
            "8    10000032  2180-07-23 14:00:00                            NaN     NaN   \n",
            "9    10000032  2180-07-23 14:12:00                            NaN     NaN   \n",
            "\n",
            "  Asparate Aminotransferase (AST) Hemoglobin Large Platelets Red Blood Cell  \\\n",
            "0                             143       14.9             NaN           4.40   \n",
            "1                             114       14.3             NaN           4.29   \n",
            "2                              98       12.7             NaN           3.80   \n",
            "3                             NaN        NaN             NaN            NaN   \n",
            "4                             162       14.0             NaN           4.14   \n",
            "5                             182       13.4             NaN           3.84   \n",
            "6                             158       12.4             NaN           3.60   \n",
            "7                             275       14.1             NaN           3.98   \n",
            "8                             NaN        NaN             NaN            NaN   \n",
            "9                             NaN        NaN             NaN            NaN   \n",
            "\n",
            "  White Blood Cells Direct Bilirubin_x  ... Heart rate.1 Respiratory rate  \\\n",
            "0               3.0                NaN  ...          NaN              NaN   \n",
            "1               5.0                NaN  ...          NaN              NaN   \n",
            "2               4.2                NaN  ...          NaN              NaN   \n",
            "3               NaN                NaN  ...          NaN              NaN   \n",
            "4               5.1                NaN  ...          NaN              NaN   \n",
            "5               6.6                NaN  ...          NaN              NaN   \n",
            "6               6.6                NaN  ...          NaN              NaN   \n",
            "7               6.9                NaN  ...          NaN              NaN   \n",
            "8               NaN                NaN  ...          NaN              NaN   \n",
            "9               NaN                NaN  ...          bpm             24.0   \n",
            "\n",
            "  Respiratory rate.1 Temperature Fahrenheit Temperature Fahrenheit.1  \\\n",
            "0                NaN                    NaN                      NaN   \n",
            "1                NaN                    NaN                      NaN   \n",
            "2                NaN                    NaN                      NaN   \n",
            "3                NaN                    NaN                      NaN   \n",
            "4                NaN                    NaN                      NaN   \n",
            "5                NaN                    NaN                      NaN   \n",
            "6                NaN                    NaN                      NaN   \n",
            "7                NaN                    NaN                      NaN   \n",
            "8                NaN                    NaN                      NaN   \n",
            "9           insp/min                    NaN                      NaN   \n",
            "\n",
            "  Temperature Celsius Temperature Celsius.1  Direct Bilirubin_y  \\\n",
            "0                 NaN                   NaN                 NaN   \n",
            "1                 NaN                   NaN                 NaN   \n",
            "2                 NaN                   NaN                 NaN   \n",
            "3                 NaN                   NaN                 NaN   \n",
            "4                 NaN                   NaN                 NaN   \n",
            "5                 NaN                   NaN                 NaN   \n",
            "6                 NaN                   NaN                 NaN   \n",
            "7                 NaN                   NaN                 NaN   \n",
            "8                98.7                    °F                 NaN   \n",
            "9                 NaN                   NaN                 NaN   \n",
            "\n",
            "  Direct Bilirubin.1  has_sepsis  \n",
            "0                NaN       False  \n",
            "1                NaN       False  \n",
            "2                NaN       False  \n",
            "3                NaN       False  \n",
            "4                NaN       False  \n",
            "5                NaN       False  \n",
            "6                NaN       False  \n",
            "7                NaN       False  \n",
            "8                NaN       False  \n",
            "9                NaN       False  \n",
            "\n",
            "[10 rows x 28 columns]\n"
          ]
        }
      ],
      "execution_count": null
    },
    {
      "metadata": {
        "id": "642d9fe7e2d900ee"
      },
      "cell_type": "markdown",
      "source": [
        "Данная функция ищет данные об **analyzes_names** пациентов из таблиц **blood_csv.csv** и **get_data_from**,\n",
        "комбинирует их вместе с **merge_with**. Стоит отметить, что эта функция также комбинирует данные о болезни каждого пациента."
      ],
      "id": "642d9fe7e2d900ee"
    },
    {
      "metadata": {
        "id": "7794ec7b56b7d829"
      },
      "cell_type": "markdown",
      "source": [
        "#### Балансировка данных внутри каждого пациента:"
      ],
      "id": "7794ec7b56b7d829"
    },
    {
      "metadata": {
        "id": "4d3eb325929789aa",
        "ExecuteTime": {
          "end_time": "2024-06-19T18:35:21.749375Z",
          "start_time": "2024-06-19T18:34:21.999885Z"
        },
        "outputId": "563fe40a-477a-4368-a770-103ffc10f09e"
      },
      "cell_type": "code",
      "source": [
        "df_balanced = ss.balance_on_patients(balancing_csv='merged_data.csv', disease_col='has_sepsis', subject_id_col='subject_id',\n",
        "                        output_csv='balance.csv',\n",
        "                        output_filtered_csv='balance_filtered.csv',\n",
        "                        filtering_on=100,\n",
        "                        number_of_patient_selected=70000,\n",
        "                        log_stats=True\n",
        "                        )\n",
        "print(df_balanced.head(10))"
      ],
      "id": "4d3eb325929789aa",
      "outputs": [
        {
          "name": "stderr",
          "output_type": "stream",
          "text": [
            "/Users/artemij/miniconda3/lib/python3.12/site-packages/sickness_screening/balance_on_patients.py:29: DtypeWarning: Columns (3,6,7) have mixed types. Specify dtype option on import or set low_memory=False.\n",
            "  df = pd.read_csv(balancing_csv)\n"
          ]
        },
        {
          "name": "stdout",
          "output_type": "stream",
          "text": [
            "In filtered dataset:\n",
            "Unique patients with disease: 7302\n",
            "Unique patients without disease: 7253\n",
            "Number of lines for patients with disease: 2956816\n",
            "Number of lines for patients without disease: 1748931\n",
            "\n",
            "In original dataset\n",
            "Number of lines for patients with disease: 3185562\n",
            "Number of lines for patients without disease: 2832512\n",
            "     subject_id            charttime Alanine Aminotransferase (ALT) Amylase  \\\n",
            "844    10002013  2155-07-27 13:26:00                             16     NaN   \n",
            "845    10002013  2155-12-01 12:25:00                             16     NaN   \n",
            "846    10002013  2156-03-04 11:25:00                             16     NaN   \n",
            "847    10002013  2156-06-27 11:10:00                             17     NaN   \n",
            "848    10002013  2156-06-28 14:07:00                            NaN     NaN   \n",
            "849    10002013  2156-06-29 08:20:00                            NaN     NaN   \n",
            "850    10002013  2156-10-22 11:27:00                             22     NaN   \n",
            "851    10002013  2156-11-01 12:30:00                            NaN     NaN   \n",
            "852    10002013  2156-11-02 06:30:00                            NaN     NaN   \n",
            "853    10002013  2156-11-03 05:30:00                            NaN     NaN   \n",
            "\n",
            "    Asparate Aminotransferase (AST) Hemoglobin Large Platelets Red Blood Cell  \\\n",
            "844                              15        NaN             NaN            NaN   \n",
            "845                              18        NaN             NaN            NaN   \n",
            "846                              16        NaN             NaN            NaN   \n",
            "847                              19        NaN             NaN            NaN   \n",
            "848                             NaN       12.3             NaN           3.64   \n",
            "849                             NaN       12.2             NaN            3.7   \n",
            "850                              17        NaN             NaN            NaN   \n",
            "851                             NaN       14.3             NaN           4.23   \n",
            "852                             NaN       13.1             NaN           3.85   \n",
            "853                             NaN       12.6             NaN           3.76   \n",
            "\n",
            "    White Blood Cells  Direct Bilirubin_x  ... Heart rate.1 Respiratory rate  \\\n",
            "844               NaN                 NaN  ...          NaN              NaN   \n",
            "845               NaN                 NaN  ...          NaN              NaN   \n",
            "846               NaN                 NaN  ...          NaN              NaN   \n",
            "847               NaN                 NaN  ...          NaN              NaN   \n",
            "848               9.6                 NaN  ...          NaN              NaN   \n",
            "849              10.3                 NaN  ...          NaN              NaN   \n",
            "850               NaN                 NaN  ...          NaN              NaN   \n",
            "851               8.0                 NaN  ...          NaN              NaN   \n",
            "852               6.9                 NaN  ...          NaN              NaN   \n",
            "853               8.1                 NaN  ...          NaN              NaN   \n",
            "\n",
            "    Respiratory rate.1 Temperature Fahrenheit Temperature Fahrenheit.1  \\\n",
            "844                NaN                    NaN                      NaN   \n",
            "845                NaN                    NaN                      NaN   \n",
            "846                NaN                    NaN                      NaN   \n",
            "847                NaN                    NaN                      NaN   \n",
            "848                NaN                    NaN                      NaN   \n",
            "849                NaN                    NaN                      NaN   \n",
            "850                NaN                    NaN                      NaN   \n",
            "851                NaN                    NaN                      NaN   \n",
            "852                NaN                    NaN                      NaN   \n",
            "853                NaN                    NaN                      NaN   \n",
            "\n",
            "    Temperature Celsius Temperature Celsius.1  Direct Bilirubin_y  \\\n",
            "844                 NaN                   NaN                 NaN   \n",
            "845                 NaN                   NaN                 NaN   \n",
            "846                 NaN                   NaN                 NaN   \n",
            "847                 NaN                   NaN                 NaN   \n",
            "848                 NaN                   NaN                 NaN   \n",
            "849                 NaN                   NaN                 NaN   \n",
            "850                 NaN                   NaN                 NaN   \n",
            "851                 NaN                   NaN                 NaN   \n",
            "852                 NaN                   NaN                 NaN   \n",
            "853                 NaN                   NaN                 NaN   \n",
            "\n",
            "    Direct Bilirubin.1  has_sepsis  \n",
            "844                NaN        True  \n",
            "845                NaN        True  \n",
            "846                NaN        True  \n",
            "847                NaN        True  \n",
            "848                NaN        True  \n",
            "849                NaN        True  \n",
            "850                NaN        True  \n",
            "851                NaN        True  \n",
            "852                NaN        True  \n",
            "853                NaN        True  \n",
            "\n",
            "[10 rows x 28 columns]\n"
          ]
        }
      ],
      "execution_count": null
    },
    {
      "metadata": {
        "id": "ac05e972ec9bda5c"
      },
      "cell_type": "markdown",
      "source": [
        "#### Компрессия данных о каждом пациенте (если в наборе данных пропуски, то внутри каждого пациента пропуски заполнятся значением из этого пациента)\n",
        "Теперь заполним пропуски имеющимися данными для каждого пациента, не заполняя статистическими значениями или константами:"
      ],
      "id": "ac05e972ec9bda5c"
    },
    {
      "metadata": {
        "id": "28eb8c3f9dcde363",
        "ExecuteTime": {
          "end_time": "2024-06-19T18:36:14.739052Z",
          "start_time": "2024-06-19T18:35:21.750738Z"
        },
        "outputId": "92d163fd-389c-48ba-fa65-b4ce50558acc"
      },
      "cell_type": "code",
      "source": [
        "df_compressed = ss.compress(df_to_compress=df_balanced,\n",
        "            subject_id_col='subject_id',\n",
        "            output_csv='compressed_data.csv')\n",
        "print(df_compressed.head(10))"
      ],
      "id": "28eb8c3f9dcde363",
      "outputs": [
        {
          "name": "stderr",
          "output_type": "stream",
          "text": [
            "/Users/artemij/miniconda3/lib/python3.12/site-packages/sickness_screening/compress.py:21: FutureWarning: Downcasting object dtype arrays on .fillna, .ffill, .bfill is deprecated and will change in a future version. Call result.infer_objects(copy=False) instead. To opt-in to the future behavior, set `pd.set_option('future.no_silent_downcasting', True)`\n",
            "  lambda group: group.ffill().bfill().infer_objects(copy=False)\n"
          ]
        },
        {
          "name": "stdout",
          "output_type": "stream",
          "text": [
            "   subject_id            charttime Alanine Aminotransferase (ALT) Amylase  \\\n",
            "0    10002013  2155-07-27 13:26:00                             16      31   \n",
            "1    10002013  2155-12-01 12:25:00                             16      31   \n",
            "2    10002013  2156-03-04 11:25:00                             16      31   \n",
            "3    10002013  2156-06-27 11:10:00                             17      31   \n",
            "4    10002013  2156-06-28 14:07:00                             17      31   \n",
            "5    10002013  2156-06-29 08:20:00                             17      31   \n",
            "6    10002013  2156-10-22 11:27:00                             22      31   \n",
            "7    10002013  2156-11-01 12:30:00                             22      31   \n",
            "8    10002013  2156-11-02 06:30:00                             22      31   \n",
            "9    10002013  2156-11-03 05:30:00                             22      31   \n",
            "\n",
            "  Asparate Aminotransferase (AST) Hemoglobin Large Platelets Red Blood Cell  \\\n",
            "0                              15       12.3             NaN           3.64   \n",
            "1                              18       12.3             NaN           3.64   \n",
            "2                              16       12.3             NaN           3.64   \n",
            "3                              19       12.3             NaN           3.64   \n",
            "4                              19       12.3             NaN           3.64   \n",
            "5                              19       12.2             NaN            3.7   \n",
            "6                              17       12.2             NaN            3.7   \n",
            "7                              17       14.3             NaN           4.23   \n",
            "8                              17       13.1             NaN           3.85   \n",
            "9                              17       12.6             NaN           3.76   \n",
            "\n",
            "  White Blood Cells  Direct Bilirubin_x  ... Heart rate.1 Respiratory rate  \\\n",
            "0               9.6                 NaN  ...          bpm             14.0   \n",
            "1               9.6                 NaN  ...          bpm             14.0   \n",
            "2               9.6                 NaN  ...          bpm             14.0   \n",
            "3               9.6                 NaN  ...          bpm             14.0   \n",
            "4               9.6                 NaN  ...          bpm             14.0   \n",
            "5              10.3                 NaN  ...          bpm             14.0   \n",
            "6              10.3                 NaN  ...          bpm             14.0   \n",
            "7               8.0                 NaN  ...          bpm             14.0   \n",
            "8               6.9                 NaN  ...          bpm             14.0   \n",
            "9               8.1                 NaN  ...          bpm             14.0   \n",
            "\n",
            "  Respiratory rate.1 Temperature Fahrenheit Temperature Fahrenheit.1  \\\n",
            "0           insp/min                   37.2                       °C   \n",
            "1           insp/min                   37.2                       °C   \n",
            "2           insp/min                   37.2                       °C   \n",
            "3           insp/min                   37.2                       °C   \n",
            "4           insp/min                   37.2                       °C   \n",
            "5           insp/min                   37.2                       °C   \n",
            "6           insp/min                   37.2                       °C   \n",
            "7           insp/min                   37.2                       °C   \n",
            "8           insp/min                   37.2                       °C   \n",
            "9           insp/min                   37.2                       °C   \n",
            "\n",
            "  Temperature Celsius Temperature Celsius.1  Direct Bilirubin_y  \\\n",
            "0                97.2                    °F                 NaN   \n",
            "1                97.2                    °F                 NaN   \n",
            "2                97.2                    °F                 NaN   \n",
            "3                97.2                    °F                 NaN   \n",
            "4                97.2                    °F                 NaN   \n",
            "5                97.2                    °F                 NaN   \n",
            "6                97.2                    °F                 NaN   \n",
            "7                97.2                    °F                 NaN   \n",
            "8                97.2                    °F                 NaN   \n",
            "9                97.2                    °F                 NaN   \n",
            "\n",
            "  Direct Bilirubin.1  has_sepsis  \n",
            "0                NaN        True  \n",
            "1                NaN        True  \n",
            "2                NaN        True  \n",
            "3                NaN        True  \n",
            "4                NaN        True  \n",
            "5                NaN        True  \n",
            "6                NaN        True  \n",
            "7                NaN        True  \n",
            "8                NaN        True  \n",
            "9                NaN        True  \n",
            "\n",
            "[10 rows x 28 columns]\n"
          ]
        }
      ],
      "execution_count": null
    },
    {
      "metadata": {
        "id": "ef4036363f3e7bf6"
      },
      "cell_type": "markdown",
      "source": [
        "#### Выбрать лучших пациентов с данными для балансировки"
      ],
      "id": "ef4036363f3e7bf6"
    },
    {
      "metadata": {
        "id": "881b6a8536793015",
        "ExecuteTime": {
          "end_time": "2024-06-19T18:36:42.315506Z",
          "start_time": "2024-06-19T18:36:14.739771Z"
        },
        "outputId": "7fe56586-4629-433c-ba09-0b9868bcf0fa"
      },
      "cell_type": "code",
      "source": [
        "df_choose = ss.choose(compressed_df_csv='compressed_data.csv',\n",
        "          output_file='final_balanced_data.csv')\n",
        "print(df_choose.head(10))"
      ],
      "id": "881b6a8536793015",
      "outputs": [
        {
          "name": "stderr",
          "output_type": "stream",
          "text": [
            "/Users/artemij/miniconda3/lib/python3.12/site-packages/sickness_screening/choose.py:23: DtypeWarning: Columns (3,5,6,7) have mixed types. Specify dtype option on import or set low_memory=False.\n",
            "  df = pd.read_csv(compressed_df_csv)\n"
          ]
        },
        {
          "name": "stdout",
          "output_type": "stream",
          "text": [
            "   subject_id            charttime Alanine Aminotransferase (ALT) Amylase  \\\n",
            "0    10002013  2155-07-27 13:26:00                             16    31.0   \n",
            "1    10002013  2155-12-01 12:25:00                             16    31.0   \n",
            "2    10002013  2156-03-04 11:25:00                             16    31.0   \n",
            "3    10002013  2156-06-27 11:10:00                             17    31.0   \n",
            "4    10002013  2156-06-28 14:07:00                             17    31.0   \n",
            "5    10002013  2156-06-29 08:20:00                             17    31.0   \n",
            "6    10002013  2156-10-22 11:27:00                             22    31.0   \n",
            "7    10002013  2156-11-01 12:30:00                             22    31.0   \n",
            "8    10002013  2156-11-02 06:30:00                             22    31.0   \n",
            "9    10002013  2156-11-03 05:30:00                             22    31.0   \n",
            "\n",
            "  Asparate Aminotransferase (AST) Hemoglobin Large Platelets Red Blood Cell  \\\n",
            "0                              15       12.3             NaN           3.64   \n",
            "1                              18       12.3             NaN           3.64   \n",
            "2                              16       12.3             NaN           3.64   \n",
            "3                              19       12.3             NaN           3.64   \n",
            "4                              19       12.3             NaN           3.64   \n",
            "5                              19       12.2             NaN            3.7   \n",
            "6                              17       12.2             NaN            3.7   \n",
            "7                              17       14.3             NaN           4.23   \n",
            "8                              17       13.1             NaN           3.85   \n",
            "9                              17       12.6             NaN           3.76   \n",
            "\n",
            "  White Blood Cells  Direct Bilirubin_x  ... Heart rate.1 Respiratory rate  \\\n",
            "0               9.6                 NaN  ...          bpm             14.0   \n",
            "1               9.6                 NaN  ...          bpm             14.0   \n",
            "2               9.6                 NaN  ...          bpm             14.0   \n",
            "3               9.6                 NaN  ...          bpm             14.0   \n",
            "4               9.6                 NaN  ...          bpm             14.0   \n",
            "5              10.3                 NaN  ...          bpm             14.0   \n",
            "6              10.3                 NaN  ...          bpm             14.0   \n",
            "7               8.0                 NaN  ...          bpm             14.0   \n",
            "8               6.9                 NaN  ...          bpm             14.0   \n",
            "9               8.1                 NaN  ...          bpm             14.0   \n",
            "\n",
            "  Respiratory rate.1 Temperature Fahrenheit Temperature Fahrenheit.1  \\\n",
            "0           insp/min                   37.2                       °C   \n",
            "1           insp/min                   37.2                       °C   \n",
            "2           insp/min                   37.2                       °C   \n",
            "3           insp/min                   37.2                       °C   \n",
            "4           insp/min                   37.2                       °C   \n",
            "5           insp/min                   37.2                       °C   \n",
            "6           insp/min                   37.2                       °C   \n",
            "7           insp/min                   37.2                       °C   \n",
            "8           insp/min                   37.2                       °C   \n",
            "9           insp/min                   37.2                       °C   \n",
            "\n",
            "  Temperature Celsius Temperature Celsius.1  Direct Bilirubin_y  \\\n",
            "0                97.2                    °F                 NaN   \n",
            "1                97.2                    °F                 NaN   \n",
            "2                97.2                    °F                 NaN   \n",
            "3                97.2                    °F                 NaN   \n",
            "4                97.2                    °F                 NaN   \n",
            "5                97.2                    °F                 NaN   \n",
            "6                97.2                    °F                 NaN   \n",
            "7                97.2                    °F                 NaN   \n",
            "8                97.2                    °F                 NaN   \n",
            "9                97.2                    °F                 NaN   \n",
            "\n",
            "  Direct Bilirubin.1  has_sepsis  \n",
            "0                NaN        True  \n",
            "1                NaN        True  \n",
            "2                NaN        True  \n",
            "3                NaN        True  \n",
            "4                NaN        True  \n",
            "5                NaN        True  \n",
            "6                NaN        True  \n",
            "7                NaN        True  \n",
            "8                NaN        True  \n",
            "9                NaN        True  \n",
            "\n",
            "[10 rows x 28 columns]\n"
          ]
        }
      ],
      "execution_count": null
    },
    {
      "metadata": {
        "id": "1a0b2f577acdbafc"
      },
      "cell_type": "markdown",
      "source": [
        "#### Заполнение пропущенных значений модой"
      ],
      "id": "1a0b2f577acdbafc"
    },
    {
      "metadata": {
        "id": "da4e30e96a9e7778",
        "ExecuteTime": {
          "end_time": "2024-06-19T18:37:30.390686Z",
          "start_time": "2024-06-19T18:36:42.316629Z"
        },
        "outputId": "4a59705e-8b7e-4454-e3d9-5535af21d0f4"
      },
      "cell_type": "code",
      "source": [
        "df_filled = ss.fill_values(balanced_csv='final_balanced_data.csv',\n",
        "               strategy='most_frequent',\n",
        "               output_csv='filled_data.csv')\n",
        "print(df_filled.head(10))"
      ],
      "id": "da4e30e96a9e7778",
      "outputs": [
        {
          "name": "stderr",
          "output_type": "stream",
          "text": [
            "/Users/artemij/miniconda3/lib/python3.12/site-packages/sickness_screening/fill_values.py:24: DtypeWarning: Columns (3,5,6,7) have mixed types. Specify dtype option on import or set low_memory=False.\n",
            "  df = pd.read_csv(balanced_csv)\n"
          ]
        },
        {
          "name": "stdout",
          "output_type": "stream",
          "text": [
            "  subject_id            charttime Alanine Aminotransferase (ALT) Amylase  \\\n",
            "0   10002013  2155-07-27 13:26:00                             16    31.0   \n",
            "1   10002013  2155-12-01 12:25:00                             16    31.0   \n",
            "2   10002013  2156-03-04 11:25:00                             16    31.0   \n",
            "3   10002013  2156-06-27 11:10:00                             17    31.0   \n",
            "4   10002013  2156-06-28 14:07:00                             17    31.0   \n",
            "5   10002013  2156-06-29 08:20:00                             17    31.0   \n",
            "6   10002013  2156-10-22 11:27:00                             22    31.0   \n",
            "7   10002013  2156-11-01 12:30:00                             22    31.0   \n",
            "8   10002013  2156-11-02 06:30:00                             22    31.0   \n",
            "9   10002013  2156-11-03 05:30:00                             22    31.0   \n",
            "\n",
            "  Asparate Aminotransferase (AST) Hemoglobin Large Platelets Red Blood Cell  \\\n",
            "0                              15       12.3               A           3.64   \n",
            "1                              18       12.3               A           3.64   \n",
            "2                              16       12.3               A           3.64   \n",
            "3                              19       12.3               A           3.64   \n",
            "4                              19       12.3               A           3.64   \n",
            "5                              19       12.2               A            3.7   \n",
            "6                              17       12.2               A            3.7   \n",
            "7                              17       14.3               A           4.23   \n",
            "8                              17       13.1               A           3.85   \n",
            "9                              17       12.6               A           3.76   \n",
            "\n",
            "  White Blood Cells Direct Bilirubin_x  ... Heart rate.1 Respiratory rate  \\\n",
            "0               9.6                0.2  ...          bpm             14.0   \n",
            "1               9.6                0.2  ...          bpm             14.0   \n",
            "2               9.6                0.2  ...          bpm             14.0   \n",
            "3               9.6                0.2  ...          bpm             14.0   \n",
            "4               9.6                0.2  ...          bpm             14.0   \n",
            "5              10.3                0.2  ...          bpm             14.0   \n",
            "6              10.3                0.2  ...          bpm             14.0   \n",
            "7               8.0                0.2  ...          bpm             14.0   \n",
            "8               6.9                0.2  ...          bpm             14.0   \n",
            "9               8.1                0.2  ...          bpm             14.0   \n",
            "\n",
            "  Respiratory rate.1 Temperature Fahrenheit Temperature Fahrenheit.1  \\\n",
            "0           insp/min                   37.2                       °C   \n",
            "1           insp/min                   37.2                       °C   \n",
            "2           insp/min                   37.2                       °C   \n",
            "3           insp/min                   37.2                       °C   \n",
            "4           insp/min                   37.2                       °C   \n",
            "5           insp/min                   37.2                       °C   \n",
            "6           insp/min                   37.2                       °C   \n",
            "7           insp/min                   37.2                       °C   \n",
            "8           insp/min                   37.2                       °C   \n",
            "9           insp/min                   37.2                       °C   \n",
            "\n",
            "  Temperature Celsius Temperature Celsius.1 Direct Bilirubin_y  \\\n",
            "0                97.2                    °F                0.2   \n",
            "1                97.2                    °F                0.2   \n",
            "2                97.2                    °F                0.2   \n",
            "3                97.2                    °F                0.2   \n",
            "4                97.2                    °F                0.2   \n",
            "5                97.2                    °F                0.2   \n",
            "6                97.2                    °F                0.2   \n",
            "7                97.2                    °F                0.2   \n",
            "8                97.2                    °F                0.2   \n",
            "9                97.2                    °F                0.2   \n",
            "\n",
            "  Direct Bilirubin.1 has_sepsis  \n",
            "0              mg/dL       True  \n",
            "1              mg/dL       True  \n",
            "2              mg/dL       True  \n",
            "3              mg/dL       True  \n",
            "4              mg/dL       True  \n",
            "5              mg/dL       True  \n",
            "6              mg/dL       True  \n",
            "7              mg/dL       True  \n",
            "8              mg/dL       True  \n",
            "9              mg/dL       True  \n",
            "\n",
            "[10 rows x 28 columns]\n"
          ]
        }
      ],
      "execution_count": null
    },
    {
      "metadata": {
        "id": "8eb99b70898bed9f"
      },
      "cell_type": "markdown",
      "source": [
        "#### Тренировка модели на наборе данных"
      ],
      "id": "8eb99b70898bed9f"
    },
    {
      "metadata": {
        "id": "480a982068be96df",
        "ExecuteTime": {
          "end_time": "2024-06-19T18:42:01.050580Z",
          "start_time": "2024-06-19T18:37:30.391554Z"
        },
        "outputId": "c085d061-a3bf-4d11-9419-9c5752c17610"
      },
      "cell_type": "code",
      "source": [
        "from sklearn.ensemble import RandomForestClassifier\n",
        "from sklearn.preprocessing import MinMaxScaler\n",
        "def convert_white_blood_cells(x):\n",
        "    if x == '<0.1':\n",
        "        return 0\n",
        "    else:\n",
        "        return x\n",
        "model = ss.train_model(df_to_train_csv='filled_data.csv',\n",
        "                       categorical_cols=['Large Platelets'],\n",
        "                       columns_to_train_on=['Amylase', 'Hemoglobin', 'Red Blood Cell', 'White Blood Cells'],\n",
        "                       model=RandomForestClassifier(),\n",
        "                       cat_convert_functions={'White Blood Cells': convert_white_blood_cells},\n",
        "                       has_disease_col='has_sepsis',\n",
        "                       subject_id_col='subject_id',\n",
        "                       valueuom_col='valueuom',\n",
        "                       scaler=MinMaxScaler(),\n",
        "                       random_state=42,\n",
        "                       test_size=0.2)"
      ],
      "id": "480a982068be96df",
      "outputs": [
        {
          "name": "stderr",
          "output_type": "stream",
          "text": [
            "/Users/artemij/miniconda3/lib/python3.12/site-packages/sickness_screening/train_model.py:51: DtypeWarning: Columns (8) have mixed types. Specify dtype option on import or set low_memory=False.\n",
            "  df = pd.read_csv(df_to_train_csv)\n"
          ]
        },
        {
          "name": "stdout",
          "output_type": "stream",
          "text": [
            "Accuracy: 0.6039456120661804\n",
            "Classification Report:\n",
            "               precision    recall  f1-score   support\n",
            "\n",
            "       False       0.44      0.32      0.37    344329\n",
            "        True       0.66      0.77      0.71    596615\n",
            "\n",
            "    accuracy                           0.60    940944\n",
            "   macro avg       0.55      0.54      0.54    940944\n",
            "weighted avg       0.58      0.60      0.59    940944\n",
            "\n"
          ]
        }
      ],
      "execution_count": null
    },
    {
      "metadata": {
        "id": "4dd5473b1103339a"
      },
      "cell_type": "markdown",
      "source": [
        "В этой функции мы обучаем **RandomForestClassifier** из scikit-learn на наборе данных с одной категориальной колонкой, с одной числовой колонкой\n",
        "и с одной категориальной колонкой, которую можно преобразовать в числовую. В качестве метода нормализации используется **MinMaxScaler** из scikit-learn."
      ],
      "id": "4dd5473b1103339a"
    },
    {
      "metadata": {
        "id": "bbb38f1e20087299"
      },
      "cell_type": "markdown",
      "source": [
        "#### Например, можно вставить такие модели, как CatBoostClassifier или SVC с разными ядрами\n",
        "CatBoostClassifier:"
      ],
      "id": "bbb38f1e20087299"
    },
    {
      "metadata": {
        "id": "6f3e000b38c9cb28"
      },
      "cell_type": "code",
      "outputs": [],
      "execution_count": null,
      "source": [
        "class_weights = {0: 1, 1: 15}\n",
        "clf = CatBoostClassifier(loss_function='MultiClassOneVsAll', class_weights=class_weights, iterations=50, learning_rate=0.1, depth=5)\n",
        "clf.fit(X_train, y_train)"
      ],
      "id": "6f3e000b38c9cb28"
    },
    {
      "metadata": {
        "id": "b79e6aaa11daf85e"
      },
      "cell_type": "markdown",
      "source": [
        "SVC с использованием гауссова ядра с радиальной базовой функцией (RBF):"
      ],
      "id": "b79e6aaa11daf85e"
    },
    {
      "metadata": {
        "id": "cbff6ee9cc23798a"
      },
      "cell_type": "code",
      "outputs": [],
      "execution_count": null,
      "source": [
        "class_weights = {0: 1, 1: 13}\n",
        "param_dist = {\n",
        "    'C': reciprocal(0.1, 100),\n",
        "    'gamma': reciprocal(0.01, 10),\n",
        "    'kernel': ['rbf']\n",
        "}\n",
        "\n",
        "svm_model = SVC(class_weight=class_weights, random_state=42)\n",
        "random_search = RandomizedSearchCV(\n",
        "    svm_model,\n",
        "    param_distributions=param_dist,\n",
        "    n_iter=10,\n",
        "    cv=5,\n",
        "    scoring=make_scorer(recall_score, pos_label=1),\n",
        "    n_jobs=-1\n",
        ")"
      ],
      "id": "cbff6ee9cc23798a"
    }
  ],
  "metadata": {
    "kernelspec": {
      "display_name": "Python 3",
      "language": "python",
      "name": "python3"
    },
    "language_info": {
      "codemirror_mode": {
        "name": "ipython",
        "version": 2
      },
      "file_extension": ".py",
      "mimetype": "text/x-python",
      "name": "python",
      "nbconvert_exporter": "python",
      "pygments_lexer": "ipython2",
      "version": "2.7.6"
    },
    "colab": {
      "provenance": []
    }
  },
  "nbformat": 4,
  "nbformat_minor": 5
}